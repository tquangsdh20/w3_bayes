{
 "cells": [
  {
   "cell_type": "markdown",
   "metadata": {},
   "source": [
    "# Bài tập Naive Bayes"
   ]
  },
  {
   "cell_type": "markdown",
   "metadata": {
    "_cell_guid": "e93323c0-07e0-6b2c-47d1-1f82bb4e9b56"
   },
   "source": [
    "## Sử dụng GaussianNB để phân nhóm cho tập Titanic dataset\n",
    "- dataset: 'Titanic_train.csv', 'Titanic_test.csv'\n"
   ]
  },
  {
   "cell_type": "code",
   "execution_count": 280,
   "metadata": {},
   "outputs": [],
   "source": [
    "import pandas as pd\n",
    "import numpy as np\n",
    "import matplotlib.pyplot as plt\n",
    "from collections import Counter\n",
    "from sklearn import feature_extraction, model_selection, naive_bayes, metrics, svm\n",
    "from IPython.display import Image\n",
    "import warnings\n",
    "warnings.filterwarnings(\"ignore\")\n",
    "%matplotlib inline "
   ]
  },
  {
   "cell_type": "markdown",
   "metadata": {},
   "source": [
    "### Read the train and test dataset"
   ]
  },
  {
   "cell_type": "code",
   "execution_count": 281,
   "metadata": {},
   "outputs": [],
   "source": [
    "X_train = pd.read_csv('./datasets/Titanic_train.csv', index_col=0)\n",
    "X_test = pd.read_csv('./datasets/Titanic_test.csv')"
   ]
  },
  {
   "cell_type": "markdown",
   "metadata": {},
   "source": [
    "### Explore the dataset"
   ]
  },
  {
   "cell_type": "code",
   "execution_count": 282,
   "metadata": {},
   "outputs": [
    {
     "data": {
      "text/html": [
       "<div>\n",
       "<style scoped>\n",
       "    .dataframe tbody tr th:only-of-type {\n",
       "        vertical-align: middle;\n",
       "    }\n",
       "\n",
       "    .dataframe tbody tr th {\n",
       "        vertical-align: top;\n",
       "    }\n",
       "\n",
       "    .dataframe thead th {\n",
       "        text-align: right;\n",
       "    }\n",
       "</style>\n",
       "<table border=\"1\" class=\"dataframe\">\n",
       "  <thead>\n",
       "    <tr style=\"text-align: right;\">\n",
       "      <th></th>\n",
       "      <th>Survived</th>\n",
       "      <th>Pclass</th>\n",
       "      <th>Name</th>\n",
       "      <th>Sex</th>\n",
       "      <th>Age</th>\n",
       "      <th>SibSp</th>\n",
       "      <th>Parch</th>\n",
       "      <th>Ticket</th>\n",
       "      <th>Fare</th>\n",
       "      <th>Cabin</th>\n",
       "      <th>Embarked</th>\n",
       "    </tr>\n",
       "    <tr>\n",
       "      <th>PassengerId</th>\n",
       "      <th></th>\n",
       "      <th></th>\n",
       "      <th></th>\n",
       "      <th></th>\n",
       "      <th></th>\n",
       "      <th></th>\n",
       "      <th></th>\n",
       "      <th></th>\n",
       "      <th></th>\n",
       "      <th></th>\n",
       "      <th></th>\n",
       "    </tr>\n",
       "  </thead>\n",
       "  <tbody>\n",
       "    <tr>\n",
       "      <th>1</th>\n",
       "      <td>0</td>\n",
       "      <td>3</td>\n",
       "      <td>Braund, Mr. Owen Harris</td>\n",
       "      <td>male</td>\n",
       "      <td>22.0</td>\n",
       "      <td>1</td>\n",
       "      <td>0</td>\n",
       "      <td>A/5 21171</td>\n",
       "      <td>7.2500</td>\n",
       "      <td>NaN</td>\n",
       "      <td>S</td>\n",
       "    </tr>\n",
       "    <tr>\n",
       "      <th>2</th>\n",
       "      <td>1</td>\n",
       "      <td>1</td>\n",
       "      <td>Cumings, Mrs. John Bradley (Florence Briggs Th...</td>\n",
       "      <td>female</td>\n",
       "      <td>38.0</td>\n",
       "      <td>1</td>\n",
       "      <td>0</td>\n",
       "      <td>PC 17599</td>\n",
       "      <td>71.2833</td>\n",
       "      <td>C85</td>\n",
       "      <td>C</td>\n",
       "    </tr>\n",
       "    <tr>\n",
       "      <th>3</th>\n",
       "      <td>1</td>\n",
       "      <td>3</td>\n",
       "      <td>Heikkinen, Miss. Laina</td>\n",
       "      <td>female</td>\n",
       "      <td>26.0</td>\n",
       "      <td>0</td>\n",
       "      <td>0</td>\n",
       "      <td>STON/O2. 3101282</td>\n",
       "      <td>7.9250</td>\n",
       "      <td>NaN</td>\n",
       "      <td>S</td>\n",
       "    </tr>\n",
       "    <tr>\n",
       "      <th>4</th>\n",
       "      <td>1</td>\n",
       "      <td>1</td>\n",
       "      <td>Futrelle, Mrs. Jacques Heath (Lily May Peel)</td>\n",
       "      <td>female</td>\n",
       "      <td>35.0</td>\n",
       "      <td>1</td>\n",
       "      <td>0</td>\n",
       "      <td>113803</td>\n",
       "      <td>53.1000</td>\n",
       "      <td>C123</td>\n",
       "      <td>S</td>\n",
       "    </tr>\n",
       "    <tr>\n",
       "      <th>5</th>\n",
       "      <td>0</td>\n",
       "      <td>3</td>\n",
       "      <td>Allen, Mr. William Henry</td>\n",
       "      <td>male</td>\n",
       "      <td>35.0</td>\n",
       "      <td>0</td>\n",
       "      <td>0</td>\n",
       "      <td>373450</td>\n",
       "      <td>8.0500</td>\n",
       "      <td>NaN</td>\n",
       "      <td>S</td>\n",
       "    </tr>\n",
       "  </tbody>\n",
       "</table>\n",
       "</div>"
      ],
      "text/plain": [
       "             Survived  Pclass  \\\n",
       "PassengerId                     \n",
       "1                   0       3   \n",
       "2                   1       1   \n",
       "3                   1       3   \n",
       "4                   1       1   \n",
       "5                   0       3   \n",
       "\n",
       "                                                          Name     Sex   Age  \\\n",
       "PassengerId                                                                    \n",
       "1                                      Braund, Mr. Owen Harris    male  22.0   \n",
       "2            Cumings, Mrs. John Bradley (Florence Briggs Th...  female  38.0   \n",
       "3                                       Heikkinen, Miss. Laina  female  26.0   \n",
       "4                 Futrelle, Mrs. Jacques Heath (Lily May Peel)  female  35.0   \n",
       "5                                     Allen, Mr. William Henry    male  35.0   \n",
       "\n",
       "             SibSp  Parch            Ticket     Fare Cabin Embarked  \n",
       "PassengerId                                                          \n",
       "1                1      0         A/5 21171   7.2500   NaN        S  \n",
       "2                1      0          PC 17599  71.2833   C85        C  \n",
       "3                0      0  STON/O2. 3101282   7.9250   NaN        S  \n",
       "4                1      0            113803  53.1000  C123        S  \n",
       "5                0      0            373450   8.0500   NaN        S  "
      ]
     },
     "execution_count": 282,
     "metadata": {},
     "output_type": "execute_result"
    }
   ],
   "source": [
    "X_train.head()"
   ]
  },
  {
   "cell_type": "code",
   "execution_count": 283,
   "metadata": {},
   "outputs": [
    {
     "data": {
      "text/html": [
       "<div>\n",
       "<style scoped>\n",
       "    .dataframe tbody tr th:only-of-type {\n",
       "        vertical-align: middle;\n",
       "    }\n",
       "\n",
       "    .dataframe tbody tr th {\n",
       "        vertical-align: top;\n",
       "    }\n",
       "\n",
       "    .dataframe thead th {\n",
       "        text-align: right;\n",
       "    }\n",
       "</style>\n",
       "<table border=\"1\" class=\"dataframe\">\n",
       "  <thead>\n",
       "    <tr style=\"text-align: right;\">\n",
       "      <th></th>\n",
       "      <th>PassengerId</th>\n",
       "      <th>Pclass</th>\n",
       "      <th>Name</th>\n",
       "      <th>Sex</th>\n",
       "      <th>Age</th>\n",
       "      <th>SibSp</th>\n",
       "      <th>Parch</th>\n",
       "      <th>Ticket</th>\n",
       "      <th>Fare</th>\n",
       "      <th>Cabin</th>\n",
       "      <th>Embarked</th>\n",
       "    </tr>\n",
       "  </thead>\n",
       "  <tbody>\n",
       "    <tr>\n",
       "      <th>0</th>\n",
       "      <td>892</td>\n",
       "      <td>3</td>\n",
       "      <td>Kelly, Mr. James</td>\n",
       "      <td>male</td>\n",
       "      <td>34.5</td>\n",
       "      <td>0</td>\n",
       "      <td>0</td>\n",
       "      <td>330911</td>\n",
       "      <td>7.8292</td>\n",
       "      <td>NaN</td>\n",
       "      <td>Q</td>\n",
       "    </tr>\n",
       "    <tr>\n",
       "      <th>1</th>\n",
       "      <td>893</td>\n",
       "      <td>3</td>\n",
       "      <td>Wilkes, Mrs. James (Ellen Needs)</td>\n",
       "      <td>female</td>\n",
       "      <td>47.0</td>\n",
       "      <td>1</td>\n",
       "      <td>0</td>\n",
       "      <td>363272</td>\n",
       "      <td>7.0000</td>\n",
       "      <td>NaN</td>\n",
       "      <td>S</td>\n",
       "    </tr>\n",
       "    <tr>\n",
       "      <th>2</th>\n",
       "      <td>894</td>\n",
       "      <td>2</td>\n",
       "      <td>Myles, Mr. Thomas Francis</td>\n",
       "      <td>male</td>\n",
       "      <td>62.0</td>\n",
       "      <td>0</td>\n",
       "      <td>0</td>\n",
       "      <td>240276</td>\n",
       "      <td>9.6875</td>\n",
       "      <td>NaN</td>\n",
       "      <td>Q</td>\n",
       "    </tr>\n",
       "    <tr>\n",
       "      <th>3</th>\n",
       "      <td>895</td>\n",
       "      <td>3</td>\n",
       "      <td>Wirz, Mr. Albert</td>\n",
       "      <td>male</td>\n",
       "      <td>27.0</td>\n",
       "      <td>0</td>\n",
       "      <td>0</td>\n",
       "      <td>315154</td>\n",
       "      <td>8.6625</td>\n",
       "      <td>NaN</td>\n",
       "      <td>S</td>\n",
       "    </tr>\n",
       "    <tr>\n",
       "      <th>4</th>\n",
       "      <td>896</td>\n",
       "      <td>3</td>\n",
       "      <td>Hirvonen, Mrs. Alexander (Helga E Lindqvist)</td>\n",
       "      <td>female</td>\n",
       "      <td>22.0</td>\n",
       "      <td>1</td>\n",
       "      <td>1</td>\n",
       "      <td>3101298</td>\n",
       "      <td>12.2875</td>\n",
       "      <td>NaN</td>\n",
       "      <td>S</td>\n",
       "    </tr>\n",
       "  </tbody>\n",
       "</table>\n",
       "</div>"
      ],
      "text/plain": [
       "   PassengerId  Pclass                                          Name     Sex  \\\n",
       "0          892       3                              Kelly, Mr. James    male   \n",
       "1          893       3              Wilkes, Mrs. James (Ellen Needs)  female   \n",
       "2          894       2                     Myles, Mr. Thomas Francis    male   \n",
       "3          895       3                              Wirz, Mr. Albert    male   \n",
       "4          896       3  Hirvonen, Mrs. Alexander (Helga E Lindqvist)  female   \n",
       "\n",
       "    Age  SibSp  Parch   Ticket     Fare Cabin Embarked  \n",
       "0  34.5      0      0   330911   7.8292   NaN        Q  \n",
       "1  47.0      1      0   363272   7.0000   NaN        S  \n",
       "2  62.0      0      0   240276   9.6875   NaN        Q  \n",
       "3  27.0      0      0   315154   8.6625   NaN        S  \n",
       "4  22.0      1      1  3101298  12.2875   NaN        S  "
      ]
     },
     "execution_count": 283,
     "metadata": {},
     "output_type": "execute_result"
    }
   ],
   "source": [
    "X_test.head()"
   ]
  },
  {
   "cell_type": "markdown",
   "metadata": {},
   "source": [
    "#### The numberic features"
   ]
  },
  {
   "cell_type": "code",
   "execution_count": 284,
   "metadata": {},
   "outputs": [
    {
     "data": {
      "text/html": [
       "<div>\n",
       "<style scoped>\n",
       "    .dataframe tbody tr th:only-of-type {\n",
       "        vertical-align: middle;\n",
       "    }\n",
       "\n",
       "    .dataframe tbody tr th {\n",
       "        vertical-align: top;\n",
       "    }\n",
       "\n",
       "    .dataframe thead th {\n",
       "        text-align: right;\n",
       "    }\n",
       "</style>\n",
       "<table border=\"1\" class=\"dataframe\">\n",
       "  <thead>\n",
       "    <tr style=\"text-align: right;\">\n",
       "      <th></th>\n",
       "      <th>Survived</th>\n",
       "      <th>Pclass</th>\n",
       "      <th>Age</th>\n",
       "      <th>SibSp</th>\n",
       "      <th>Parch</th>\n",
       "      <th>Fare</th>\n",
       "    </tr>\n",
       "  </thead>\n",
       "  <tbody>\n",
       "    <tr>\n",
       "      <th>count</th>\n",
       "      <td>891.000000</td>\n",
       "      <td>891.000000</td>\n",
       "      <td>714.000000</td>\n",
       "      <td>891.000000</td>\n",
       "      <td>891.000000</td>\n",
       "      <td>891.000000</td>\n",
       "    </tr>\n",
       "    <tr>\n",
       "      <th>mean</th>\n",
       "      <td>0.383838</td>\n",
       "      <td>2.308642</td>\n",
       "      <td>29.699118</td>\n",
       "      <td>0.523008</td>\n",
       "      <td>0.381594</td>\n",
       "      <td>32.204208</td>\n",
       "    </tr>\n",
       "    <tr>\n",
       "      <th>std</th>\n",
       "      <td>0.486592</td>\n",
       "      <td>0.836071</td>\n",
       "      <td>14.526497</td>\n",
       "      <td>1.102743</td>\n",
       "      <td>0.806057</td>\n",
       "      <td>49.693429</td>\n",
       "    </tr>\n",
       "    <tr>\n",
       "      <th>min</th>\n",
       "      <td>0.000000</td>\n",
       "      <td>1.000000</td>\n",
       "      <td>0.420000</td>\n",
       "      <td>0.000000</td>\n",
       "      <td>0.000000</td>\n",
       "      <td>0.000000</td>\n",
       "    </tr>\n",
       "    <tr>\n",
       "      <th>25%</th>\n",
       "      <td>0.000000</td>\n",
       "      <td>2.000000</td>\n",
       "      <td>20.125000</td>\n",
       "      <td>0.000000</td>\n",
       "      <td>0.000000</td>\n",
       "      <td>7.910400</td>\n",
       "    </tr>\n",
       "    <tr>\n",
       "      <th>50%</th>\n",
       "      <td>0.000000</td>\n",
       "      <td>3.000000</td>\n",
       "      <td>28.000000</td>\n",
       "      <td>0.000000</td>\n",
       "      <td>0.000000</td>\n",
       "      <td>14.454200</td>\n",
       "    </tr>\n",
       "    <tr>\n",
       "      <th>75%</th>\n",
       "      <td>1.000000</td>\n",
       "      <td>3.000000</td>\n",
       "      <td>38.000000</td>\n",
       "      <td>1.000000</td>\n",
       "      <td>0.000000</td>\n",
       "      <td>31.000000</td>\n",
       "    </tr>\n",
       "    <tr>\n",
       "      <th>max</th>\n",
       "      <td>1.000000</td>\n",
       "      <td>3.000000</td>\n",
       "      <td>80.000000</td>\n",
       "      <td>8.000000</td>\n",
       "      <td>6.000000</td>\n",
       "      <td>512.329200</td>\n",
       "    </tr>\n",
       "  </tbody>\n",
       "</table>\n",
       "</div>"
      ],
      "text/plain": [
       "         Survived      Pclass         Age       SibSp       Parch        Fare\n",
       "count  891.000000  891.000000  714.000000  891.000000  891.000000  891.000000\n",
       "mean     0.383838    2.308642   29.699118    0.523008    0.381594   32.204208\n",
       "std      0.486592    0.836071   14.526497    1.102743    0.806057   49.693429\n",
       "min      0.000000    1.000000    0.420000    0.000000    0.000000    0.000000\n",
       "25%      0.000000    2.000000   20.125000    0.000000    0.000000    7.910400\n",
       "50%      0.000000    3.000000   28.000000    0.000000    0.000000   14.454200\n",
       "75%      1.000000    3.000000   38.000000    1.000000    0.000000   31.000000\n",
       "max      1.000000    3.000000   80.000000    8.000000    6.000000  512.329200"
      ]
     },
     "execution_count": 284,
     "metadata": {},
     "output_type": "execute_result"
    }
   ],
   "source": [
    "X_train.describe()"
   ]
  },
  {
   "cell_type": "markdown",
   "metadata": {},
   "source": [
    "#### The catetorical features"
   ]
  },
  {
   "cell_type": "code",
   "execution_count": 285,
   "metadata": {},
   "outputs": [
    {
     "data": {
      "text/plain": [
       "Ticket\n",
       "110152         3\n",
       "110413         3\n",
       "110465         2\n",
       "110564         1\n",
       "110813         1\n",
       "              ..\n",
       "W./C. 6608     4\n",
       "W./C. 6609     1\n",
       "W.E.P. 5734    1\n",
       "W/C 14208      1\n",
       "WE/P 5735      2\n",
       "Length: 681, dtype: int64"
      ]
     },
     "execution_count": 285,
     "metadata": {},
     "output_type": "execute_result"
    }
   ],
   "source": [
    "X_train.groupby(['Ticket']).size()"
   ]
  },
  {
   "cell_type": "code",
   "execution_count": 286,
   "metadata": {},
   "outputs": [
    {
     "data": {
      "text/plain": [
       "Cabin\n",
       "A10    1\n",
       "A14    1\n",
       "A16    1\n",
       "A19    1\n",
       "A20    1\n",
       "      ..\n",
       "F33    3\n",
       "F38    1\n",
       "F4     2\n",
       "G6     4\n",
       "T      1\n",
       "Length: 147, dtype: int64"
      ]
     },
     "execution_count": 286,
     "metadata": {},
     "output_type": "execute_result"
    }
   ],
   "source": [
    "X_train.groupby(['Cabin']).size()"
   ]
  },
  {
   "cell_type": "code",
   "execution_count": 287,
   "metadata": {},
   "outputs": [
    {
     "data": {
      "text/plain": [
       "Sex\n",
       "female    314\n",
       "male      577\n",
       "dtype: int64"
      ]
     },
     "execution_count": 287,
     "metadata": {},
     "output_type": "execute_result"
    }
   ],
   "source": [
    "X_train.groupby(['Sex']).size()"
   ]
  },
  {
   "cell_type": "code",
   "execution_count": 288,
   "metadata": {},
   "outputs": [
    {
     "data": {
      "text/plain": [
       "Embarked\n",
       "C    168\n",
       "Q     77\n",
       "S    644\n",
       "dtype: int64"
      ]
     },
     "execution_count": 288,
     "metadata": {},
     "output_type": "execute_result"
    }
   ],
   "source": [
    "X_train.groupby(['Embarked']).size()"
   ]
  },
  {
   "cell_type": "code",
   "execution_count": 289,
   "metadata": {},
   "outputs": [
    {
     "name": "stdout",
     "output_type": "stream",
     "text": [
      "About the train dataset: \n",
      "The number of individuals: 891\n",
      "The number of features: 11\n",
      "\n",
      "About the test dataset: \n",
      "The number of individuals: 418\n",
      "The number of features: 11\n"
     ]
    }
   ],
   "source": [
    "print('About the train dataset: ')\n",
    "print(f'The number of individuals: {X_train.shape[0]}')\n",
    "print(f'The number of features: {X_train.shape[1]}')\n",
    "print('\\nAbout the test dataset: ')\n",
    "print(f'The number of individuals: {X_test.shape[0]}')\n",
    "print(f'The number of features: {X_test.shape[1]}')"
   ]
  },
  {
   "cell_type": "markdown",
   "metadata": {},
   "source": [
    "### Descrition about dataset\n",
    "\n",
    "VARIABLE DESCRIPTIONS:  \n",
    "survival        Survival  \n",
    "                (0 = No; 1 = Yes)  \n",
    "pclass          Passenger Class  \n",
    "                (1 = 1st; 2 = 2nd; 3 = 3rd)  \n",
    "name            Name  \n",
    "sex             Sex  \n",
    "age             Age  \n",
    "sibsp           Number of Siblings/Spouses Aboard  \n",
    "parch           Number of Parents/Children Aboard  \n",
    "ticket          Ticket Number  \n",
    "fare            Passenger Fare  \n",
    "cabin           Cabin  \n",
    "embarked        Port of Embarkation  \n",
    "                (C = Cherbourg; Q = Queenstown; S = Southampton)  \n",
    "\n",
    "SPECIAL NOTES:  \n",
    "Pclass is a proxy for socio-economic status (SES)  \n",
    " 1st ~ Upper; 2nd ~ Middle; 3rd ~ Lower  \n",
    "  \n",
    "Age is in Years; Fractional if Age less than One (1)  \n",
    " If the Age is Estimated, it is in the form xx.5  \n",
    "\n",
    "With respect to the family relation variables (i.e. sibsp and parch)  \n",
    "some relations were ignored.  The following are the definitions used  \n",
    "for sibsp and parch.  \n",
    "\n",
    "Sibling:  Brother, Sister, Stepbrother, or Stepsister of Passenger Aboard Titanic  \n",
    "Spouse:   Husband or Wife of Passenger Aboard Titanic (Mistresses and Fiances Ignored)  \n",
    "Parent:   Mother or Father of Passenger Aboard Titanic  \n",
    "Child:    Son, Daughter, Stepson, or Stepdaughter of Passenger Aboard Titanic  \n",
    "  \n",
    "Other family relatives excluded from this study include cousins,  \n",
    "nephews/nieces, aunts/uncles, and in-laws.  Some children travelled  \n",
    "only with a nanny, therefore parch=0 for them.  As well, some  \n",
    "travelled with very close friends or neighbors in a village, however,  \n",
    "the definitions do not support such relations.  "
   ]
  },
  {
   "cell_type": "markdown",
   "metadata": {},
   "source": [
    "## Pre-Processing Data"
   ]
  },
  {
   "cell_type": "markdown",
   "metadata": {},
   "source": [
    "### Catacorial convert to numberic"
   ]
  },
  {
   "cell_type": "code",
   "execution_count": 290,
   "metadata": {},
   "outputs": [],
   "source": [
    "# Training Dataset\n",
    "X_train['Sex'] = pd.Categorical(X_train['Sex'])\n",
    "X_train['Sex'].replace(['female', 'male'],\n",
    "                        [0, 1],\n",
    "                       inplace=True\n",
    "                      )\n",
    "X_train['Embarked'] = pd.Categorical(X_train['Embarked'])\n",
    "X_train['Embarked'].replace(['C', 'Q', 'S'],\n",
    "                        [0, 1, 2],\n",
    "                       inplace=True\n",
    "                      )\n",
    "# Testing Dataset\n",
    "X_test['Sex'] = pd.Categorical(X_test['Sex'])\n",
    "X_test['Sex'].replace(['female', 'male'],\n",
    "                        [0, 1],\n",
    "                       inplace=True\n",
    "                      )\n",
    "X_test['Embarked'] = pd.Categorical(X_test['Embarked'])\n",
    "X_test['Embarked'].replace(['C', 'Q', 'S'],\n",
    "                        [0, 1, 2],\n",
    "                       inplace=True\n",
    "                      )"
   ]
  },
  {
   "cell_type": "markdown",
   "metadata": {},
   "source": [
    "### Features Selection\n",
    "\n",
    "The features such as *Cabin*, *Ticket* will be ignored due to not including important information."
   ]
  },
  {
   "cell_type": "code",
   "execution_count": 291,
   "metadata": {},
   "outputs": [],
   "source": [
    "features = ['Sex', 'Embarked' ,'Pclass', 'Age', 'SibSp', 'Parch', 'Fare']\n",
    "drops = ['Cabin', 'PassengerId', 'Ticket', 'Name']"
   ]
  },
  {
   "cell_type": "markdown",
   "metadata": {},
   "source": [
    "### Sovling Duplication"
   ]
  },
  {
   "cell_type": "code",
   "execution_count": 292,
   "metadata": {},
   "outputs": [
    {
     "data": {
      "text/plain": [
       "0"
      ]
     },
     "execution_count": 292,
     "metadata": {},
     "output_type": "execute_result"
    }
   ],
   "source": [
    "### Checking for duplicate values\n",
    "X_train.index.duplicated().sum()"
   ]
  },
  {
   "cell_type": "markdown",
   "metadata": {},
   "source": [
    "### Dealing with the missing data"
   ]
  },
  {
   "cell_type": "code",
   "execution_count": 293,
   "metadata": {},
   "outputs": [
    {
     "data": {
      "text/plain": [
       "Survived      0\n",
       "Pclass        0\n",
       "Name          0\n",
       "Sex           0\n",
       "Age         177\n",
       "SibSp         0\n",
       "Parch         0\n",
       "Ticket        0\n",
       "Fare          0\n",
       "Cabin       687\n",
       "Embarked      2\n",
       "dtype: int64"
      ]
     },
     "execution_count": 293,
     "metadata": {},
     "output_type": "execute_result"
    }
   ],
   "source": [
    "## Missing Data Checking:\n",
    "X_train.isnull().sum()"
   ]
  },
  {
   "cell_type": "code",
   "execution_count": 294,
   "metadata": {},
   "outputs": [
    {
     "data": {
      "text/plain": [
       "PassengerId      0\n",
       "Pclass           0\n",
       "Name             0\n",
       "Sex              0\n",
       "Age             86\n",
       "SibSp            0\n",
       "Parch            0\n",
       "Ticket           0\n",
       "Fare             1\n",
       "Cabin          327\n",
       "Embarked         0\n",
       "dtype: int64"
      ]
     },
     "execution_count": 294,
     "metadata": {},
     "output_type": "execute_result"
    }
   ],
   "source": [
    "## Missing Data Checking:\n",
    "X_test.isnull().sum()"
   ]
  },
  {
   "cell_type": "markdown",
   "metadata": {},
   "source": [
    "#### Drop the unimportant features\n",
    "\n",
    "In this case, the features **cabin** has too many different values and missing values. Therefore, we can ignore this features. Also we can drop the record has the missing value of the feature **Fare**."
   ]
  },
  {
   "cell_type": "code",
   "execution_count": 295,
   "metadata": {},
   "outputs": [],
   "source": [
    "# Drop all the record that has the missing value in Feature EMBARKED and FARE\n",
    "X_train = X_train.dropna(subset=['Embarked'], how='any')\n",
    "X_test = X_test.dropna(subset=['Fare'], how='any')\n",
    "idx_test = X_test['PassengerId']\n",
    "# Drop the unimportant features\n",
    "# X_train = X_train.drop(['Cabin', 'Ticket'], axis=1)\n",
    "# X_test = X_test.drop(['Cabin', 'Ticket'], axis=1)"
   ]
  },
  {
   "cell_type": "markdown",
   "metadata": {},
   "source": [
    "#### Fill the missing value with previous value"
   ]
  },
  {
   "cell_type": "code",
   "execution_count": 296,
   "metadata": {},
   "outputs": [],
   "source": [
    "# Fill the missing value with previous value in the table\n",
    "# X_train_pre = X_train.fillna(method='pad')\n",
    "# X_test_pre = X_test.fillna(method='pad')\n",
    "# print(f'The train dataset: {X_train_pre.shape[0]}')\n",
    "# print(f'The test dataset : {X_test_pre.shape[0]}')"
   ]
  },
  {
   "cell_type": "markdown",
   "metadata": {},
   "source": [
    "#### Fill the missing value with mean value"
   ]
  },
  {
   "cell_type": "markdown",
   "metadata": {},
   "source": [
    "In this case, this method could be a good way to deal with missing values in dataset."
   ]
  },
  {
   "cell_type": "code",
   "execution_count": 297,
   "metadata": {},
   "outputs": [
    {
     "name": "stdout",
     "output_type": "stream",
     "text": [
      "The train dataset: 889\n"
     ]
    }
   ],
   "source": [
    "# Fill the missing value with previous value in the table\n",
    "X_train['Age'] = X_train['Age'].fillna(value=X_train['Age'].mean())\n",
    "X_test['Age'] = X_test['Age'].fillna(value=X_test['Age'].mean())\n",
    "# X_test_pre = X_test.fillna(method='pad')\n",
    "print(f'The train dataset: {X_train.shape[0]}')\n",
    "# print(f'The test dataset : {X_test_pre.shape[0]}')"
   ]
  },
  {
   "cell_type": "code",
   "execution_count": 298,
   "metadata": {},
   "outputs": [
    {
     "data": {
      "text/plain": [
       "Survived      0\n",
       "Pclass        0\n",
       "Name          0\n",
       "Sex           0\n",
       "Age           0\n",
       "SibSp         0\n",
       "Parch         0\n",
       "Ticket        0\n",
       "Fare          0\n",
       "Cabin       687\n",
       "Embarked      0\n",
       "dtype: int64"
      ]
     },
     "execution_count": 298,
     "metadata": {},
     "output_type": "execute_result"
    }
   ],
   "source": [
    "X_train.isnull().sum()"
   ]
  },
  {
   "cell_type": "code",
   "execution_count": 299,
   "metadata": {},
   "outputs": [
    {
     "data": {
      "text/plain": [
       "PassengerId      0\n",
       "Pclass           0\n",
       "Name             0\n",
       "Sex              0\n",
       "Age              0\n",
       "SibSp            0\n",
       "Parch            0\n",
       "Ticket           0\n",
       "Fare             0\n",
       "Cabin          326\n",
       "Embarked         0\n",
       "dtype: int64"
      ]
     },
     "execution_count": 299,
     "metadata": {},
     "output_type": "execute_result"
    }
   ],
   "source": [
    "X_test.isnull().sum()"
   ]
  },
  {
   "cell_type": "markdown",
   "metadata": {},
   "source": [
    "### Checking if the the dataset is balanced"
   ]
  },
  {
   "cell_type": "code",
   "execution_count": 300,
   "metadata": {},
   "outputs": [
    {
     "name": "stdout",
     "output_type": "stream",
     "text": [
      "0    549\n",
      "1    340\n",
      "Name: Survived, dtype: int64\n"
     ]
    },
    {
     "data": {
      "image/png": "[encoded data removed]",
      "text/plain": [
       "<Figure size 432x288 with 1 Axes>"
      ]
     },
     "metadata": {
      "needs_background": "light"
     },
     "output_type": "display_data"
    }
   ],
   "source": [
    "### Checking if the dataset is balanced.\n",
    "count_Class=pd.value_counts(X_train[\"Survived\"], sort= True)\n",
    "print(count_Class)\n",
    "count_Class.plot(kind= 'bar', color= [\"blue\", \"orange\"])\n",
    "plt.show()"
   ]
  },
  {
   "cell_type": "code",
   "execution_count": 301,
   "metadata": {},
   "outputs": [
    {
     "data": {
      "image/png": "[encoded data removed]",
      "text/plain": [
       "<Figure size 432x288 with 1 Axes>"
      ]
     },
     "metadata": {},
     "output_type": "display_data"
    }
   ],
   "source": [
    "count_Class.plot(kind = 'pie',  autopct='%1.0f%%')\n",
    "plt.title('Pie chart')\n",
    "plt.ylabel('')\n",
    "plt.show()"
   ]
  },
  {
   "cell_type": "markdown",
   "metadata": {},
   "source": [
    "### SMOTE Sampling for unbalanced dataset"
   ]
  },
  {
   "cell_type": "code",
   "execution_count": 302,
   "metadata": {
    "scrolled": true
   },
   "outputs": [],
   "source": [
    "from imblearn.over_sampling import SMOTE\n",
    "y_train = X_train['Survived'].values\n",
    "# y_test = X_test['Survived'].values --> Label is the different file\n",
    "# Read the labels of test dataset\n",
    "y_test = pd.read_csv('./datasets/gender_submission.csv', index_col=0)\n",
    "y_test = y_test['Survived'][idx_test]\n",
    "# Test Dataset and Train Dataset features\n",
    "X_test = X_test[features].values\n",
    "X_train = X_train[features].values"
   ]
  },
  {
   "cell_type": "code",
   "execution_count": 303,
   "metadata": {},
   "outputs": [],
   "source": [
    "# Transform the dataset\n",
    "oversample = SMOTE()\n",
    "X_train, y_train  = oversample.fit_resample(X_train, y_train)"
   ]
  },
  {
   "cell_type": "markdown",
   "metadata": {},
   "source": [
    "### Classification with GaussianNB Model"
   ]
  },
  {
   "cell_type": "code",
   "execution_count": 304,
   "metadata": {},
   "outputs": [
    {
     "data": {
      "text/plain": [
       "GaussianNB()"
      ]
     },
     "execution_count": 304,
     "metadata": {},
     "output_type": "execute_result"
    }
   ],
   "source": [
    "from sklearn.naive_bayes import GaussianNB\n",
    "model = GaussianNB()\n",
    "# fit it to training data\n",
    "model.fit(X_train,y_train)\n",
    "model"
   ]
  },
  {
   "cell_type": "markdown",
   "metadata": {},
   "source": [
    "#### Prediction Status"
   ]
  },
  {
   "cell_type": "code",
   "execution_count": 305,
   "metadata": {},
   "outputs": [
    {
     "name": "stdout",
     "output_type": "stream",
     "text": [
      "[0 1 0 0 1 0 1 0 1 0 0 0 1 0 1 1 0 0 1 1 1 0 1 1 1 0 1 0 0 0 0 0 1 1 1 0 1\n",
      " 1 0 0 0 0 0 1 1 0 1 0 1 1 1 0 1 1 0 0 0 0 0 1 0 0 0 1 1 1 1 0 1 1 1 0 1 1\n",
      " 1 1 0 1 0 1 0 1 0 0 0 0 1 1 1 0 1 0 1 0 1 0 1 0 1 0 1 0 0 0 1 0 0 0 0 0 0\n",
      " 1 1 1 1 0 0 1 1 1 1 0 1 0 0 1 0 0 0 0 0 1 0 0 0 0 0 0 1 0 0 1 1 0 0 0 0 0\n",
      " 0 0 1 0 1 0 0 1 1 0 1 1 0 1 0 0 1 1 0 1 1 0 0 0 0 0 1 1 1 1 1 0 1 1 0 1 0\n",
      " 1 0 0 0 0 0 0 0 0 0 1 1 0 1 1 0 1 1 0 1 1 0 1 0 0 0 0 1 0 0 1 1 1 0 1 0 1\n",
      " 0 1 1 0 1 0 0 0 1 0 0 1 0 1 0 1 1 1 1 1 0 0 0 1 0 1 1 1 0 1 0 0 0 0 0 1 0\n",
      " 0 0 1 1 0 0 0 0 1 0 1 0 1 1 0 1 0 0 0 0 1 0 1 1 1 0 0 1 0 0 0 1 0 1 0 0 1\n",
      " 0 0 0 0 0 0 0 1 1 1 0 1 1 0 0 0 1 1 1 1 0 0 0 0 0 0 0 1 0 1 1 0 0 1 1 0 1\n",
      " 0 0 0 0 0 0 0 0 0 1 0 1 0 1 0 1 1 0 0 0 1 0 1 0 0 1 0 1 1 0 1 0 0 1 1 0 0\n",
      " 1 0 0 1 1 0 0 0 0 0 0 1 1 0 1 0 0 0 0 1 1 0 0 0 1 0 1 0 0 1 0 1 1 1 0 0 1\n",
      " 1 1 1 1 1 0 1 0 0 0]\n"
     ]
    }
   ],
   "source": [
    "# predict using test data\n",
    "y_pred = model.predict(X_test)\n",
    "print(y_pred)"
   ]
  },
  {
   "cell_type": "markdown",
   "metadata": {},
   "source": [
    "#### Predicted probabilities"
   ]
  },
  {
   "cell_type": "code",
   "execution_count": 306,
   "metadata": {},
   "outputs": [
    {
     "name": "stdout",
     "output_type": "stream",
     "text": [
      "[[9.08254001e-01 9.17459989e-02]\n",
      " [3.37942589e-01 6.62057411e-01]\n",
      " [8.18489486e-01 1.81510514e-01]\n",
      " [9.35220655e-01 6.47793447e-02]\n",
      " [2.49400484e-01 7.50599516e-01]\n",
      " [9.18540358e-01 8.14596422e-02]\n",
      " [2.02225524e-01 7.97774476e-01]\n",
      " [8.45286780e-01 1.54713220e-01]\n",
      " [6.82031809e-02 9.31796819e-01]\n",
      " [9.89094682e-01 1.09053184e-02]\n",
      " [9.37573161e-01 6.24268389e-02]\n",
      " [6.63298114e-01 3.36701886e-01]\n",
      " [7.99248384e-03 9.92007516e-01]\n",
      " [8.85192733e-01 1.14807267e-01]\n",
      " [2.58420844e-02 9.74157916e-01]\n",
      " [3.82064243e-02 9.61793576e-01]\n",
      " [8.19454073e-01 1.80545927e-01]\n",
      " [7.42416649e-01 2.57583351e-01]\n",
      " [3.04594865e-01 6.95405135e-01]\n",
      " [9.11966118e-02 9.08803388e-01]\n",
      " [1.87469193e-01 8.12530807e-01]\n",
      " [8.85314172e-01 1.14685828e-01]\n",
      " [4.25509527e-02 9.57449047e-01]\n",
      " [1.07372665e-01 8.92627335e-01]\n",
      " [4.11686975e-13 1.00000000e+00]\n",
      " [9.50989587e-01 4.90104128e-02]\n",
      " [3.21867573e-03 9.96781324e-01]\n",
      " [7.47647077e-01 2.52352923e-01]\n",
      " [6.48327805e-01 3.51672195e-01]\n",
      " [9.59525873e-01 4.04741267e-02]\n",
      " [8.92156945e-01 1.07843055e-01]\n",
      " [9.75446591e-01 2.45534087e-02]\n",
      " [3.09929030e-01 6.90070970e-01]\n",
      " [2.99426793e-01 7.00573207e-01]\n",
      " [1.80600931e-01 8.19399069e-01]\n",
      " [7.32879247e-01 2.67120753e-01]\n",
      " [2.88355422e-01 7.11644578e-01]\n",
      " [2.60256170e-01 7.39743830e-01]\n",
      " [9.33561602e-01 6.64383983e-02]\n",
      " [8.83509144e-01 1.16490856e-01]\n",
      " [7.50122667e-01 2.49877333e-01]\n",
      " [6.36308354e-01 3.63691646e-01]\n",
      " [9.42956342e-01 5.70436577e-02]\n",
      " [1.55726127e-01 8.44273873e-01]\n",
      " [3.42093398e-02 9.65790660e-01]\n",
      " [9.33083688e-01 6.69163125e-02]\n",
      " [2.96180050e-01 7.03819950e-01]\n",
      " [9.04137582e-01 9.58624181e-02]\n",
      " [2.58453382e-03 9.97415466e-01]\n",
      " [2.93072841e-01 7.06927159e-01]\n",
      " [4.55498550e-01 5.44501450e-01]\n",
      " [5.94048867e-01 4.05951133e-01]\n",
      " [4.67814106e-01 5.32185894e-01]\n",
      " [1.84290471e-10 1.00000000e+00]\n",
      " [6.04439657e-01 3.95560343e-01]\n",
      " [9.99995695e-01 4.30499628e-06]\n",
      " [9.40588541e-01 5.94114591e-02]\n",
      " [9.32987094e-01 6.70129062e-02]\n",
      " [9.45299872e-01 5.47001279e-02]\n",
      " [2.17573567e-13 1.00000000e+00]\n",
      " [9.23007668e-01 7.69923318e-02]\n",
      " [8.75208316e-01 1.24791684e-01]\n",
      " [9.24448343e-01 7.55516574e-02]\n",
      " [1.83099209e-01 8.16900791e-01]\n",
      " [3.70460067e-11 1.00000000e+00]\n",
      " [1.54134782e-01 8.45865218e-01]\n",
      " [1.71811829e-01 8.28188171e-01]\n",
      " [6.04057841e-01 3.95942159e-01]\n",
      " [2.78190738e-01 7.21809262e-01]\n",
      " [3.77246098e-12 1.00000000e+00]\n",
      " [1.88414613e-01 8.11585387e-01]\n",
      " [9.28567112e-01 7.14328881e-02]\n",
      " [2.85077031e-01 7.14922969e-01]\n",
      " [2.73515226e-01 7.26484774e-01]\n",
      " [1.95723014e-09 9.99999998e-01]\n",
      " [7.07880372e-08 9.99999929e-01]\n",
      " [9.37622532e-01 6.23774682e-02]\n",
      " [2.71817610e-01 7.28182390e-01]\n",
      " [8.72489292e-01 1.27510708e-01]\n",
      " [1.88414613e-01 8.11585387e-01]\n",
      " [6.53197049e-01 3.46802951e-01]\n",
      " [6.55945472e-08 9.99999934e-01]\n",
      " [6.63794148e-01 3.36205852e-01]\n",
      " [9.37573161e-01 6.24268389e-02]\n",
      " [8.10867583e-01 1.89132417e-01]\n",
      " [7.93785942e-01 2.06214058e-01]\n",
      " [1.95879862e-01 8.04120138e-01]\n",
      " [2.48339456e-01 7.51660544e-01]\n",
      " [2.02707012e-01 7.97292988e-01]\n",
      " [7.65785853e-01 2.34214147e-01]\n",
      " [2.91243201e-01 7.08756799e-01]\n",
      " [9.37533674e-01 6.24663255e-02]\n",
      " [2.83313041e-02 9.71668696e-01]\n",
      " [9.37622532e-01 6.23774682e-02]\n",
      " [2.66520474e-01 7.33479526e-01]\n",
      " [9.33038797e-01 6.69612034e-02]\n",
      " [9.25553927e-03 9.90744461e-01]\n",
      " [9.36678354e-01 6.33216456e-02]\n",
      " [2.55767109e-01 7.44232891e-01]\n",
      " [9.39511678e-01 6.04883225e-02]\n",
      " [7.10031078e-03 9.92899689e-01]\n",
      " [8.75916639e-01 1.24083361e-01]\n",
      " [9.04137582e-01 9.58624181e-02]\n",
      " [9.34011468e-01 6.59885316e-02]\n",
      " [6.07158248e-02 9.39284175e-01]\n",
      " [9.35529267e-01 6.44707330e-02]\n",
      " [8.90908081e-01 1.09091919e-01]\n",
      " [9.04137582e-01 9.58624181e-02]\n",
      " [9.37821514e-01 6.21784859e-02]\n",
      " [8.49631705e-01 1.50368295e-01]\n",
      " [6.27239886e-01 3.72760114e-01]\n",
      " [2.02733631e-01 7.97266369e-01]\n",
      " [1.04126339e-02 9.89587366e-01]\n",
      " [1.72799661e-01 8.27200339e-01]\n",
      " [1.84945450e-09 9.99999998e-01]\n",
      " [7.58375838e-01 2.41624162e-01]\n",
      " [7.68159574e-01 2.31840426e-01]\n",
      " [1.63335721e-01 8.36664279e-01]\n",
      " [9.11219286e-02 9.08878071e-01]\n",
      " [1.63686747e-01 8.36313253e-01]\n",
      " [1.16172852e-01 8.83827148e-01]\n",
      " [9.14208045e-01 8.57919550e-02]\n",
      " [6.23825383e-03 9.93761746e-01]\n",
      " [9.35623845e-01 6.43761547e-02]\n",
      " [9.04137582e-01 9.58624181e-02]\n",
      " [2.10549358e-01 7.89450642e-01]\n",
      " [9.29749948e-01 7.02500518e-02]\n",
      " [6.41181816e-01 3.58818184e-01]\n",
      " [8.83545946e-01 1.16454054e-01]\n",
      " [9.32090832e-01 6.79091677e-02]\n",
      " [9.38883381e-01 6.11166192e-02]\n",
      " [2.98601679e-01 7.01398321e-01]\n",
      " [6.01658749e-01 3.98341251e-01]\n",
      " [7.89183966e-01 2.10816034e-01]\n",
      " [9.43452445e-01 5.65475547e-02]\n",
      " [9.32022771e-01 6.79772287e-02]\n",
      " [7.59876819e-01 2.40123181e-01]\n",
      " [8.66090583e-01 1.33909417e-01]\n",
      " [2.66700392e-01 7.33299608e-01]\n",
      " [9.98801275e-01 1.19872506e-03]\n",
      " [9.99999889e-01 1.11458505e-07]\n",
      " [2.73007515e-05 9.99972699e-01]\n",
      " [1.44892771e-11 1.00000000e+00]\n",
      " [8.63736238e-01 1.36263762e-01]\n",
      " [6.59345782e-01 3.40654218e-01]\n",
      " [9.99737647e-01 2.62352817e-04]\n",
      " [5.15111493e-01 4.84888507e-01]\n",
      " [9.29841419e-01 7.01585808e-02]\n",
      " [6.36308354e-01 3.63691646e-01]\n",
      " [8.56342959e-01 1.43657041e-01]\n",
      " [1.22344740e-03 9.98776553e-01]\n",
      " [7.69745794e-01 2.30254206e-01]\n",
      " [2.92626998e-01 7.07373002e-01]\n",
      " [9.99997789e-01 2.21145057e-06]\n",
      " [9.31913014e-01 6.80869861e-02]\n",
      " [1.54149709e-09 9.99999998e-01]\n",
      " [2.66490253e-01 7.33509747e-01]\n",
      " [6.59345782e-01 3.40654218e-01]\n",
      " [2.68811602e-01 7.31188398e-01]\n",
      " [2.02691740e-01 7.97308260e-01]\n",
      " [6.59689711e-01 3.40310289e-01]\n",
      " [1.48540611e-01 8.51459389e-01]\n",
      " [9.37263335e-01 6.27366645e-02]\n",
      " [8.83046468e-01 1.16953532e-01]\n",
      " [2.58581466e-01 7.41418534e-01]\n",
      " [2.16510459e-01 7.83489541e-01]\n",
      " [9.86236472e-01 1.37635283e-02]\n",
      " [1.02694798e-02 9.89730520e-01]\n",
      " [2.64118525e-01 7.35881475e-01]\n",
      " [9.37458226e-01 6.25417738e-02]\n",
      " [7.61236831e-01 2.38763169e-01]\n",
      " [9.39460972e-01 6.05390284e-02]\n",
      " [7.69059454e-01 2.30940546e-01]\n",
      " [9.95591189e-01 4.40881060e-03]\n",
      " [9.53431262e-02 9.04656874e-01]\n",
      " [1.14517931e-01 8.85482069e-01]\n",
      " [2.09765156e-01 7.90234844e-01]\n",
      " [1.97750137e-01 8.02249863e-01]\n",
      " [1.64491028e-03 9.98355090e-01]\n",
      " [8.72489292e-01 1.27510708e-01]\n",
      " [5.77968825e-02 9.42203117e-01]\n",
      " [2.47772928e-02 9.75222707e-01]\n",
      " [9.04137582e-01 9.58624181e-02]\n",
      " [3.18347058e-12 1.00000000e+00]\n",
      " [8.82539429e-01 1.17460571e-01]\n",
      " [1.13322872e-01 8.86677128e-01]\n",
      " [9.88387356e-01 1.16126444e-02]\n",
      " [1.00000000e+00 4.51555959e-21]\n",
      " [8.82474198e-01 1.17525802e-01]\n",
      " [8.85026137e-01 1.14973863e-01]\n",
      " [6.37489218e-01 3.62510782e-01]\n",
      " [9.07668201e-01 9.23317991e-02]\n",
      " [8.20982109e-01 1.79017891e-01]\n",
      " [7.85139707e-01 2.14860293e-01]\n",
      " [9.39450571e-01 6.05494292e-02]\n",
      " [7.25561765e-04 9.99274438e-01]\n",
      " [2.48056153e-01 7.51943847e-01]\n",
      " [8.59522806e-01 1.40477194e-01]\n",
      " [2.88424491e-01 7.11575509e-01]\n",
      " [2.05891500e-01 7.94108500e-01]\n",
      " [8.79872410e-01 1.20127590e-01]\n",
      " [6.19588374e-09 9.99999994e-01]\n",
      " [9.33394690e-02 9.06660531e-01]\n",
      " [8.63535117e-01 1.36464883e-01]\n",
      " [2.81784703e-01 7.18215297e-01]\n",
      " [2.11360948e-01 7.88639052e-01]\n",
      " [8.61581958e-01 1.38418042e-01]\n",
      " [1.06079206e-02 9.89392079e-01]\n",
      " [9.33073618e-01 6.69263821e-02]\n",
      " [9.38529228e-01 6.14707724e-02]\n",
      " [9.37281669e-01 6.27183314e-02]\n",
      " [5.76973702e-01 4.23026298e-01]\n",
      " [1.75886968e-01 8.24113032e-01]\n",
      " [9.99949571e-01 5.04286769e-05]\n",
      " [6.00177403e-01 3.99822597e-01]\n",
      " [2.02823968e-01 7.97176032e-01]\n",
      " [2.10751050e-04 9.99789249e-01]\n",
      " [1.90736390e-09 9.99999998e-01]\n",
      " [9.37622532e-01 6.23774682e-02]\n",
      " [4.43696817e-02 9.55630318e-01]\n",
      " [9.28623063e-01 7.13769372e-02]\n",
      " [1.39429121e-01 8.60570879e-01]\n",
      " [9.28530126e-01 7.14698745e-02]\n",
      " [1.14725057e-02 9.88527494e-01]\n",
      " [7.98659244e-02 9.20134076e-01]\n",
      " [9.30906510e-01 6.90934899e-02]\n",
      " [2.02707012e-01 7.97292988e-01]\n",
      " [9.43838660e-01 5.61613398e-02]\n",
      " [8.79437318e-01 1.20562682e-01]\n",
      " [6.49285150e-01 3.50714850e-01]\n",
      " [3.92197063e-02 9.60780294e-01]\n",
      " [9.35740662e-01 6.42593380e-02]\n",
      " [9.04200272e-01 9.57997279e-02]\n",
      " [1.22551217e-01 8.77448783e-01]\n",
      " [9.27266666e-01 7.27333344e-02]\n",
      " [9.92573829e-02 9.00742617e-01]\n",
      " [7.38725590e-01 2.61274410e-01]\n",
      " [1.21274606e-01 8.78725394e-01]\n",
      " [4.75782601e-04 9.99524217e-01]\n",
      " [1.13567791e-02 9.88643221e-01]\n",
      " [1.51170578e-01 8.48829422e-01]\n",
      " [1.30039659e-03 9.98699603e-01]\n",
      " [9.37570471e-01 6.24295292e-02]\n",
      " [9.40671221e-01 5.93287788e-02]\n",
      " [5.69224467e-01 4.30775533e-01]\n",
      " [1.38426604e-01 8.61573396e-01]\n",
      " [8.59675917e-01 1.40324083e-01]\n",
      " [1.63686747e-01 8.36313253e-01]\n",
      " [9.40098374e-02 9.05990163e-01]\n",
      " [8.70294594e-02 9.12970541e-01]\n",
      " [9.27293112e-01 7.27068881e-02]\n",
      " [1.10085052e-03 9.98899149e-01]\n",
      " [9.32484907e-01 6.75150934e-02]\n",
      " [9.39601483e-01 6.03985166e-02]\n",
      " [9.37458226e-01 6.25417738e-02]\n",
      " [9.04137582e-01 9.58624181e-02]\n",
      " [9.35899524e-01 6.41004765e-02]\n",
      " [1.33355758e-01 8.66644242e-01]\n",
      " [9.28522363e-01 7.14776371e-02]\n",
      " [9.48506751e-01 5.14932486e-02]\n",
      " [9.28551793e-01 7.14482073e-02]\n",
      " [1.43567090e-01 8.56432910e-01]\n",
      " [1.63177309e-01 8.36822691e-01]\n",
      " [6.03561404e-01 3.96438596e-01]\n",
      " [9.37573161e-01 6.24268389e-02]\n",
      " [6.28920033e-01 3.71079967e-01]\n",
      " [9.37458226e-01 6.25417738e-02]\n",
      " [2.88355422e-01 7.11644578e-01]\n",
      " [9.23291891e-01 7.67081090e-02]\n",
      " [9.55101750e-02 9.04489825e-01]\n",
      " [9.04137582e-01 9.58624181e-02]\n",
      " [2.92615755e-05 9.99970738e-01]\n",
      " [2.26565769e-01 7.73434231e-01]\n",
      " [7.69054924e-01 2.30945076e-01]\n",
      " [1.44386148e-01 8.55613852e-01]\n",
      " [8.68788466e-01 1.31211534e-01]\n",
      " [8.89776073e-01 1.10223927e-01]\n",
      " [8.83989831e-01 1.16010169e-01]\n",
      " [8.57354444e-01 1.42645556e-01]\n",
      " [2.67319335e-01 7.32680665e-01]\n",
      " [8.77920048e-01 1.22079952e-01]\n",
      " [2.02707012e-01 7.97292988e-01]\n",
      " [5.23472207e-02 9.47652779e-01]\n",
      " [1.66328813e-01 8.33671187e-01]\n",
      " [9.40878896e-01 5.91211037e-02]\n",
      " [9.37353768e-01 6.26462322e-02]\n",
      " [2.33162118e-01 7.66837882e-01]\n",
      " [7.69059454e-01 2.30940546e-01]\n",
      " [9.37622532e-01 6.23774682e-02]\n",
      " [5.90654437e-01 4.09345563e-01]\n",
      " [2.01566332e-01 7.98433668e-01]\n",
      " [7.69059454e-01 2.30940546e-01]\n",
      " [2.35297165e-01 7.64702835e-01]\n",
      " [9.41519940e-01 5.84800605e-02]\n",
      " [9.34053025e-01 6.59469750e-02]\n",
      " [1.67542122e-02 9.83245788e-01]\n",
      " [9.59525873e-01 4.04741267e-02]\n",
      " [5.57786232e-01 4.42213768e-01]\n",
      " [9.36655089e-01 6.33449113e-02]\n",
      " [9.38796202e-01 6.12037977e-02]\n",
      " [6.04496457e-01 3.95503543e-01]\n",
      " [8.58861734e-01 1.41138266e-01]\n",
      " [9.32290735e-01 6.77092651e-02]\n",
      " [2.02707012e-01 7.97292988e-01]\n",
      " [4.27841986e-02 9.57215801e-01]\n",
      " [1.04316354e-03 9.98956836e-01]\n",
      " [8.63187611e-01 1.36812389e-01]\n",
      " [1.33484845e-01 8.66515155e-01]\n",
      " [3.42560414e-01 6.57439586e-01]\n",
      " [9.24784425e-01 7.52155754e-02]\n",
      " [7.45943861e-01 2.54056139e-01]\n",
      " [9.37466732e-01 6.25332683e-02]\n",
      " [2.14244912e-01 7.85755088e-01]\n",
      " [3.40137300e-05 9.99965986e-01]\n",
      " [1.68692411e-01 8.31307589e-01]\n",
      " [4.65419119e-04 9.99534581e-01]\n",
      " [8.50159506e-01 1.49840494e-01]\n",
      " [9.34963478e-01 6.50365219e-02]\n",
      " [9.74594144e-01 2.54058560e-02]\n",
      " [9.34011468e-01 6.59885316e-02]\n",
      " [7.55580320e-01 2.44419680e-01]\n",
      " [8.66090583e-01 1.33909417e-01]\n",
      " [6.43856811e-01 3.56143189e-01]\n",
      " [9.31303416e-09 9.99999991e-01]\n",
      " [9.30622195e-01 6.93778048e-02]\n",
      " [3.73613649e-01 6.26386351e-01]\n",
      " [7.96231473e-02 9.20376853e-01]\n",
      " [8.78945217e-01 1.21054783e-01]\n",
      " [8.55823757e-01 1.44176243e-01]\n",
      " [1.39136187e-01 8.60863813e-01]\n",
      " [2.90578765e-01 7.09421235e-01]\n",
      " [7.69054924e-01 2.30945076e-01]\n",
      " [6.53878561e-02 9.34612144e-01]\n",
      " [9.34977519e-01 6.50224811e-02]\n",
      " [6.36959102e-01 3.63040898e-01]\n",
      " [8.75141812e-01 1.24858188e-01]\n",
      " [7.73994337e-01 2.26005663e-01]\n",
      " [8.50600110e-01 1.49399890e-01]\n",
      " [7.69059454e-01 2.30940546e-01]\n",
      " [8.47518893e-01 1.52481107e-01]\n",
      " [9.38731923e-01 6.12680769e-02]\n",
      " [9.99997394e-01 2.60644259e-06]\n",
      " [4.42750240e-46 1.00000000e+00]\n",
      " [9.33394488e-01 6.66055123e-02]\n",
      " [2.39954394e-01 7.60045606e-01]\n",
      " [8.66090583e-01 1.33909417e-01]\n",
      " [8.84262986e-02 9.11573701e-01]\n",
      " [8.62376220e-01 1.37623780e-01]\n",
      " [1.55453246e-01 8.44546754e-01]\n",
      " [3.86658266e-03 9.96133417e-01]\n",
      " [8.63535117e-01 1.36464883e-01]\n",
      " [5.82155117e-01 4.17844883e-01]\n",
      " [7.48490247e-01 2.51509753e-01]\n",
      " [1.79592666e-01 8.20407334e-01]\n",
      " [6.63654064e-01 3.36345936e-01]\n",
      " [1.81867083e-01 8.18132917e-01]\n",
      " [9.37567777e-01 6.24322228e-02]\n",
      " [9.04137582e-01 9.58624181e-02]\n",
      " [3.17407219e-01 6.82592781e-01]\n",
      " [1.00000000e+00 1.61301929e-22]\n",
      " [2.74423891e-02 9.72557611e-01]\n",
      " [1.55453246e-01 8.44546754e-01]\n",
      " [9.35220655e-01 6.47793447e-02]\n",
      " [5.94014294e-03 9.94059857e-01]\n",
      " [9.99903319e-01 9.66813306e-05]\n",
      " [7.93786106e-01 2.06213894e-01]\n",
      " [2.20695442e-01 7.79304558e-01]\n",
      " [4.48407923e-03 9.95515921e-01]\n",
      " [6.00750483e-01 3.99249517e-01]\n",
      " [8.69898057e-01 1.30101943e-01]\n",
      " [3.46408165e-05 9.99965359e-01]\n",
      " [6.55510755e-01 3.44489245e-01]\n",
      " [8.84329575e-01 1.15670425e-01]\n",
      " [8.19883738e-03 9.91801163e-01]\n",
      " [2.28675134e-13 1.00000000e+00]\n",
      " [7.17702751e-01 2.82297249e-01]\n",
      " [8.55448779e-01 1.44551221e-01]\n",
      " [5.53919331e-01 4.46080669e-01]\n",
      " [9.99997254e-01 2.74637856e-06]\n",
      " [9.04137582e-01 9.58624181e-02]\n",
      " [8.99001018e-01 1.00998982e-01]\n",
      " [2.92088789e-01 7.07911211e-01]\n",
      " [2.79404942e-01 7.20595058e-01]\n",
      " [8.72723793e-01 1.27276207e-01]\n",
      " [6.12490946e-02 9.38750905e-01]\n",
      " [9.31994667e-01 6.80053335e-02]\n",
      " [8.82573764e-01 1.17426236e-01]\n",
      " [8.90869379e-01 1.09130621e-01]\n",
      " [9.99452126e-01 5.47874486e-04]\n",
      " [1.20040539e-01 8.79959461e-01]\n",
      " [3.42461971e-02 9.65753803e-01]\n",
      " [9.12333023e-01 8.76669765e-02]\n",
      " [8.84356092e-01 1.15643908e-01]\n",
      " [9.99662226e-01 3.37774212e-04]\n",
      " [1.97389411e-02 9.80261059e-01]\n",
      " [8.95692756e-01 1.04307244e-01]\n",
      " [2.13517807e-03 9.97864822e-01]\n",
      " [9.29742308e-01 7.02576919e-02]\n",
      " [9.04999355e-01 9.50006452e-02]\n",
      " [5.65024711e-06 9.99994350e-01]\n",
      " [8.91927061e-01 1.08072939e-01]\n",
      " [3.54011408e-03 9.96459886e-01]\n",
      " [4.92105774e-01 5.07894226e-01]\n",
      " [3.25743942e-01 6.74256058e-01]\n",
      " [5.64714217e-01 4.35285783e-01]\n",
      " [8.73625007e-01 1.26374993e-01]\n",
      " [7.07569073e-08 9.99999929e-01]\n",
      " [2.02680285e-01 7.97319715e-01]\n",
      " [1.72394264e-01 8.27605736e-01]\n",
      " [2.02707012e-01 7.97292988e-01]\n",
      " [3.86205546e-03 9.96137945e-01]\n",
      " [2.82115923e-01 7.17884077e-01]\n",
      " [9.37622532e-01 6.23774682e-02]\n",
      " [3.39118861e-04 9.99660881e-01]\n",
      " [9.41947879e-01 5.80521210e-02]\n",
      " [9.37622532e-01 6.23774682e-02]\n",
      " [7.52943049e-01 2.47056951e-01]]\n"
     ]
    }
   ],
   "source": [
    "# Compute predicted probabilities: y_pred_prob\n",
    "y_pred_prob = model.predict_proba(X_test)\n",
    "print(y_pred_prob)"
   ]
  },
  {
   "cell_type": "markdown",
   "metadata": {},
   "source": [
    "### Evaluating"
   ]
  },
  {
   "cell_type": "code",
   "execution_count": 307,
   "metadata": {},
   "outputs": [
    {
     "name": "stdout",
     "output_type": "stream",
     "text": [
      "Confusion matrix:\n",
      " [[228  37]\n",
      " [  7 145]]\n",
      "Accuracy:  0.894484412470024\n"
     ]
    }
   ],
   "source": [
    "from sklearn.metrics import confusion_matrix, recall_score, accuracy_score\n",
    "print('Confusion matrix:\\n', confusion_matrix(y_test,y_pred)) \n",
    "print(\"Accuracy: \", accuracy_score(y_test,y_pred))"
   ]
  }
 ],
 "metadata": {
  "kernelspec": {
   "display_name": "Python 3 (ipykernel)",
   "language": "python",
   "name": "python3"
  },
  "language_info": {
   "codemirror_mode": {
    "name": "ipython",
    "version": 3
   },
   "file_extension": ".py",
   "mimetype": "text/x-python",
   "name": "python",
   "nbconvert_exporter": "python",
   "pygments_lexer": "ipython3",
   "version": "3.7.11"
  }
 },
 "nbformat": 4,
 "nbformat_minor": 2
}
